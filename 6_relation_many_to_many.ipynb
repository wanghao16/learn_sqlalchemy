{
 "cells": [
  {
   "cell_type": "code",
   "execution_count": 1,
   "metadata": {},
   "outputs": [],
   "source": [
    "from contextlib import contextmanager\n",
    "\n",
    "from sqlalchemy.orm import relationship\n",
    "from sqlalchemy.ext.declarative import declarative_base\n",
    "from sqlalchemy.orm import sessionmaker\n",
    "from sqlalchemy import create_engine, Column, Integer, String, ForeignKey, \\\n",
    "    Table, Text"
   ]
  },
  {
   "cell_type": "code",
   "execution_count": 2,
   "metadata": {},
   "outputs": [],
   "source": [
    "engine = create_engine('sqlite:///:memory:')\n",
    "Base = declarative_base()"
   ]
  },
  {
   "cell_type": "markdown",
   "metadata": {},
   "source": [
    "## Many to Many (BlogPosts <---> Keywords)"
   ]
  },
  {
   "cell_type": "code",
   "execution_count": 3,
   "metadata": {},
   "outputs": [],
   "source": [
    "# construct relationship table\n",
    "post_keywords = Table('post_keywords', Base.metadata,\n",
    "    Column('post_id', ForeignKey('posts.id'), primary_key=True),\n",
    "    Column('keyword_id', ForeignKey('keywords.id'), primary_key=True)\n",
    ")"
   ]
  },
  {
   "cell_type": "code",
   "execution_count": 4,
   "metadata": {},
   "outputs": [],
   "source": [
    "class BlogPost(Base):\n",
    "    __tablename__ = 'posts'\n",
    "\n",
    "    id = Column(Integer, primary_key=True)\n",
    "    headline = Column(String(255), nullable=False)\n",
    "    body = Column(Text)\n",
    "\n",
    "    # many to many BlogPost<->Keyword\n",
    "    keywords = relationship('Keyword',\n",
    "                            secondary=post_keywords,\n",
    "                            back_populates='posts')\n",
    "\n",
    "    def __init__(self, headline, body):\n",
    "        self.headline = headline\n",
    "        self.body = body\n",
    "\n",
    "    def __repr__(self):\n",
    "        return \"BlogPost(%r, %r, %r)\" % (self.headline, self.body, self.keywords)"
   ]
  },
  {
   "cell_type": "code",
   "execution_count": 5,
   "metadata": {},
   "outputs": [],
   "source": [
    "class Keyword(Base):\n",
    "    __tablename__ = 'keywords'\n",
    "\n",
    "    id = Column(Integer, primary_key=True)\n",
    "    keyword = Column(String(50), nullable=False, unique=True)\n",
    "    \n",
    "    # many to many\n",
    "    posts = relationship('BlogPost',\n",
    "                         secondary=post_keywords,\n",
    "                         back_populates='keywords')\n",
    "\n",
    "    def __init__(self, keyword):\n",
    "        self.keyword = keyword\n",
    "\n",
    "    def __repr__(self):\n",
    "        return \"Keyword(%r)\" % (self.keyword,)"
   ]
  },
  {
   "cell_type": "code",
   "execution_count": 6,
   "metadata": {},
   "outputs": [],
   "source": [
    "Base.metadata.create_all(engine)"
   ]
  },
  {
   "cell_type": "code",
   "execution_count": 7,
   "metadata": {},
   "outputs": [],
   "source": [
    "@contextmanager\n",
    "def session_scope(engine):\n",
    "    \"\"\"Provide a transactional scope around a series of operations.\"\"\"\n",
    "    sess_cls = sessionmaker(bind=engine)\n",
    "    session = sess_cls()\n",
    "    try:\n",
    "        yield session\n",
    "        session.commit()\n",
    "    except:\n",
    "        session.rollback()\n",
    "        raise\n",
    "    finally:\n",
    "        session.close()"
   ]
  },
  {
   "cell_type": "code",
   "execution_count": 8,
   "metadata": {},
   "outputs": [],
   "source": [
    "# add items\n",
    "with session_scope(engine) as session:\n",
    "    post = BlogPost(\"Wendy's Blog Post\", \"This is a test\")\n",
    "    session.add(post)\n",
    "\n",
    "    post.keywords.append(Keyword('wendy'))\n",
    "    post.keywords.append(Keyword('firstpost'))"
   ]
  },
  {
   "cell_type": "code",
   "execution_count": 9,
   "metadata": {},
   "outputs": [
    {
     "name": "stdout",
     "output_type": "stream",
     "text": [
      "[BlogPost(u\"Wendy's Blog Post\", u'This is a test', [Keyword(u'wendy'), Keyword(u'firstpost')])]\n"
     ]
    }
   ],
   "source": [
    "# query\n",
    "with session_scope(engine) as session:\n",
    "    print(session.query(BlogPost)\n",
    "          .filter(BlogPost.keywords.any(keyword='firstpost'))\n",
    "          .all())"
   ]
  },
  {
   "cell_type": "code",
   "execution_count": null,
   "metadata": {},
   "outputs": [],
   "source": []
  }
 ],
 "metadata": {
  "kernelspec": {
   "display_name": "Python 2",
   "language": "python",
   "name": "python2"
  },
  "language_info": {
   "codemirror_mode": {
    "name": "ipython",
    "version": 2
   },
   "file_extension": ".py",
   "mimetype": "text/x-python",
   "name": "python",
   "nbconvert_exporter": "python",
   "pygments_lexer": "ipython2",
   "version": "2.7.13"
  }
 },
 "nbformat": 4,
 "nbformat_minor": 2
}
