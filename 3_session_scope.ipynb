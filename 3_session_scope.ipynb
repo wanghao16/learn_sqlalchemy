{
 "cells": [
  {
   "cell_type": "code",
   "execution_count": 1,
   "metadata": {},
   "outputs": [],
   "source": [
    "from sqlalchemy.ext.declarative import declarative_base\n",
    "from sqlalchemy.orm import sessionmaker\n",
    "from sqlalchemy import create_engine, Column, Integer, String\n",
    "\n",
    "engine = create_engine('sqlite:///:memory:')\n",
    "Base = declarative_base()"
   ]
  },
  {
   "cell_type": "code",
   "execution_count": 2,
   "metadata": {},
   "outputs": [],
   "source": [
    "class User(Base):\n",
    "    __tablename__ = 'users'\n",
    "    id = Column(Integer, primary_key=True)\n",
    "    name = Column(String)\n",
    "    fullname = Column(String)\n",
    "    nickname = Column(String)\n",
    "\n",
    "    def __repr__(self):\n",
    "        return \"<User(name='%s', fullname='%s', nickname='%s')>\" % (\n",
    "            self.name, self.fullname, self.nickname)"
   ]
  },
  {
   "cell_type": "code",
   "execution_count": 3,
   "metadata": {},
   "outputs": [],
   "source": [
    "Base.metadata.create_all(engine)"
   ]
  },
  {
   "cell_type": "markdown",
   "metadata": {},
   "source": [
    "## use contextmanager"
   ]
  },
  {
   "cell_type": "code",
   "execution_count": 4,
   "metadata": {},
   "outputs": [],
   "source": [
    "from contextlib import contextmanager\n",
    "@contextmanager\n",
    "def session_scope(engine):\n",
    "    \"\"\"Provide a transactional scope around a series of operations.\"\"\"\n",
    "    sess_cls = sessionmaker(bind=engine)\n",
    "    session = sess_cls()\n",
    "    try:\n",
    "        yield session\n",
    "        session.commit()\n",
    "    except:\n",
    "        session.rollback()\n",
    "        raise\n",
    "    finally:\n",
    "        session.close()"
   ]
  },
  {
   "cell_type": "code",
   "execution_count": 5,
   "metadata": {},
   "outputs": [
    {
     "name": "stdout",
     "output_type": "stream",
     "text": [
      "[]\n"
     ]
    }
   ],
   "source": [
    "# table is empty\n",
    "with session_scope(engine) as session:\n",
    "    print(session.query(User).all())"
   ]
  },
  {
   "cell_type": "code",
   "execution_count": 6,
   "metadata": {},
   "outputs": [],
   "source": [
    "with session_scope(engine) as session:\n",
    "    # add one item, will be commited if no error raised\n",
    "    ed_user = User(name='ed', fullname='Ed Jones', nickname='edsnickname')\n",
    "    session.add(ed_user)"
   ]
  },
  {
   "cell_type": "code",
   "execution_count": 7,
   "metadata": {},
   "outputs": [
    {
     "name": "stdout",
     "output_type": "stream",
     "text": [
      "[<User(name='ed', fullname='Ed Jones', nickname='edsnickname')>]\n"
     ]
    }
   ],
   "source": [
    "# check commit\n",
    "print(session.query(User).all())"
   ]
  },
  {
   "cell_type": "code",
   "execution_count": 8,
   "metadata": {},
   "outputs": [
    {
     "name": "stdout",
     "output_type": "stream",
     "text": [
      "[<User(name='Edwardo', fullname='Ed Jones', nickname='edsnickname')>]\n",
      "integer division or modulo by zero\n"
     ]
    }
   ],
   "source": [
    "try:\n",
    "    with session_scope(engine) as session:\n",
    "        # modify item & not commit\n",
    "        ed_user = session.query(User).first()\n",
    "        ed_user.name = 'Edwardo'\n",
    "        print(session.query(User).all())\n",
    "        \n",
    "        # encounter an error, will rollback all uncommited changes\n",
    "        _ = 0/0\n",
    "except Exception as e:\n",
    "    print(e)"
   ]
  },
  {
   "cell_type": "code",
   "execution_count": 9,
   "metadata": {},
   "outputs": [
    {
     "name": "stdout",
     "output_type": "stream",
     "text": [
      "[<User(name='ed', fullname='Ed Jones', nickname='edsnickname')>]\n"
     ]
    }
   ],
   "source": [
    "# check rollback\n",
    "with session_scope(engine) as session:\n",
    "    print(session.query(User).all())"
   ]
  },
  {
   "cell_type": "code",
   "execution_count": null,
   "metadata": {},
   "outputs": [],
   "source": []
  }
 ],
 "metadata": {
  "kernelspec": {
   "display_name": "Python 2",
   "language": "python",
   "name": "python2"
  },
  "language_info": {
   "codemirror_mode": {
    "name": "ipython",
    "version": 2
   },
   "file_extension": ".py",
   "mimetype": "text/x-python",
   "name": "python",
   "nbconvert_exporter": "python",
   "pygments_lexer": "ipython2",
   "version": "2.7.13"
  }
 },
 "nbformat": 4,
 "nbformat_minor": 2
}
