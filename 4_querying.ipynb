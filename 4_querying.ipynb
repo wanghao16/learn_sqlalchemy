{
 "cells": [
  {
   "cell_type": "code",
   "execution_count": 1,
   "metadata": {},
   "outputs": [],
   "source": [
    "from contextlib import contextmanager\n",
    "\n",
    "from sqlalchemy.ext.declarative import declarative_base\n",
    "from sqlalchemy.orm import sessionmaker\n",
    "from sqlalchemy import create_engine, Column, Integer, String"
   ]
  },
  {
   "cell_type": "code",
   "execution_count": 2,
   "metadata": {},
   "outputs": [],
   "source": [
    "engine = create_engine('sqlite:///:memory:')\n",
    "Base = declarative_base()"
   ]
  },
  {
   "cell_type": "code",
   "execution_count": 3,
   "metadata": {},
   "outputs": [],
   "source": [
    "class User(Base):\n",
    "    __tablename__ = 'users'\n",
    "    id = Column(Integer, primary_key=True)\n",
    "    name = Column(String)\n",
    "    fullname = Column(String)\n",
    "    nickname = Column(String)\n",
    "\n",
    "    def __repr__(self):\n",
    "        return \"<User(name='%s', fullname='%s', nickname='%s')>\" % (\n",
    "            self.name, self.fullname, self.nickname)"
   ]
  },
  {
   "cell_type": "code",
   "execution_count": 4,
   "metadata": {},
   "outputs": [],
   "source": [
    "Base.metadata.create_all(engine)"
   ]
  },
  {
   "cell_type": "code",
   "execution_count": 5,
   "metadata": {},
   "outputs": [],
   "source": [
    "@contextmanager\n",
    "def session_scope(engine):\n",
    "    \"\"\"Provide a transactional scope around a series of operations.\"\"\"\n",
    "    sess_cls = sessionmaker(bind=engine)\n",
    "    session = sess_cls()\n",
    "    try:\n",
    "        yield session\n",
    "        session.commit()\n",
    "    except:\n",
    "        session.rollback()\n",
    "        raise\n",
    "    finally:\n",
    "        session.close()"
   ]
  },
  {
   "cell_type": "markdown",
   "metadata": {},
   "source": [
    "## queries"
   ]
  },
  {
   "cell_type": "code",
   "execution_count": 6,
   "metadata": {},
   "outputs": [],
   "source": [
    "# add some items first\n",
    "with session_scope(engine) as session:\n",
    "    session.add_all([\n",
    "        User(name='ed', fullname='Ed Jones', nickname='edsnickname'),\n",
    "        User(name='wendy', fullname='Wendy Williams', nickname='windy'),\n",
    "        User(name='mary', fullname='Mary Contrary', nickname='mary'),\n",
    "        User(name='fred', fullname='Fred Flintstone', nickname='freddy')])"
   ]
  },
  {
   "cell_type": "code",
   "execution_count": 7,
   "metadata": {},
   "outputs": [
    {
     "name": "stdout",
     "output_type": "stream",
     "text": [
      "1\n",
      "[<User(name='ed', fullname='Ed Jones', nickname='edsnickname')>]\n",
      "[<User(name='wendy', fullname='Wendy Williams', nickname='windy')>, <User(name='mary', fullname='Mary Contrary', nickname='mary')>, <User(name='fred', fullname='Fred Flintstone', nickname='freddy')>]\n",
      "[<User(name='ed', fullname='Ed Jones', nickname='edsnickname')>, <User(name='fred', fullname='Fred Flintstone', nickname='freddy')>]\n",
      "[<User(name='ed', fullname='Ed Jones', nickname='edsnickname')>, <User(name='wendy', fullname='Wendy Williams', nickname='windy')>, <User(name='mary', fullname='Mary Contrary', nickname='mary')>, <User(name='fred', fullname='Fred Flintstone', nickname='freddy')>]\n",
      "[<User(name='mary', fullname='Mary Contrary', nickname='mary')>, <User(name='fred', fullname='Fred Flintstone', nickname='freddy')>]\n",
      "[<User(name='ed', fullname='Ed Jones', nickname='edsnickname')>]\n",
      "[<User(name='ed', fullname='Ed Jones', nickname='edsnickname')>]\n",
      "[(u'ed',)]\n"
     ]
    }
   ],
   "source": [
    "with session_scope(engine) as session:\n",
    "    print(session.query(User).filter(User.name == 'ed').count())\n",
    "    print(session.query(User).filter(User.name == 'ed').all())\n",
    "    print(session.query(User).filter(User.name != 'ed').all())\n",
    "    print(session.query(User).filter(User.name.like('%ed%')).all())\n",
    "    print(session.query(User).filter(User.name != None).all())\n",
    "    print(session.query(User).filter(~User.name.in_(['ed', 'wendy'])).all())\n",
    "\n",
    "    print(session.query(User).filter(\n",
    "        User.name == 'ed',\n",
    "        User.fullname == 'Ed Jones').all())\n",
    "    print(session.query(User)\n",
    "          .filter(User.name == 'ed')\n",
    "          .filter(User.fullname == 'Ed Jones').all())\n",
    "    print(session.query(User.name)\n",
    "          .filter(User.name == 'ed')\n",
    "          .filter(User.fullname == 'Ed Jones').all())"
   ]
  },
  {
   "cell_type": "code",
   "execution_count": null,
   "metadata": {},
   "outputs": [],
   "source": []
  }
 ],
 "metadata": {
  "kernelspec": {
   "display_name": "Python 2",
   "language": "python",
   "name": "python2"
  },
  "language_info": {
   "codemirror_mode": {
    "name": "ipython",
    "version": 2
   },
   "file_extension": ".py",
   "mimetype": "text/x-python",
   "name": "python",
   "nbconvert_exporter": "python",
   "pygments_lexer": "ipython2",
   "version": "2.7.13"
  }
 },
 "nbformat": 4,
 "nbformat_minor": 2
}
