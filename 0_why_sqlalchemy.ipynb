{
 "cells": [
  {
   "cell_type": "markdown",
   "metadata": {},
   "source": [
    "## Code Compare (raw SQL vs SQLAlchmey)"
   ]
  },
  {
   "cell_type": "markdown",
   "metadata": {},
   "source": [
    "```python\n",
    "# use raw SQL\n",
    "cursor.execute('SELECT n.id, n.url '\n",
    "               'FROM novel AS n '\n",
    "               'INNER JOIN `index` AS i ON n.name=i.novel_name '\n",
    "               'ORDER BY i.id DESC '\n",
    "               'LIMIT {}'.format(num))\n",
    "\n",
    "# use SQLAlchemy\n",
    "sess.query(Novel.id, Novel.url).join(Index, Novel.name == Index.novel_name).order_by(Index.id.desc())[:num]\n",
    "```"
   ]
  },
  {
   "cell_type": "markdown",
   "metadata": {},
   "source": [
    "## Main Advantages\n",
    "* 使用ORM，Pythonic，可读性强，便于维护\n",
    "* 安全性高，自动生成SQL语句，防止SQL注入\n",
    "\n",
    "## Other Advantages\n",
    "* 可通过`event_listener`定制ORM表现行为，如，在插入数据库前自动检测各字段是否符合要求等\n",
    "* [与web框架无缝结合](https://flask-sqlalchemy.palletsprojects.com/en/2.x/)\n",
    "* 标准的开源库，多看源码，可以学习开源的思想/架构\n",
    "* ...\n"
   ]
  },
  {
   "cell_type": "code",
   "execution_count": null,
   "metadata": {},
   "outputs": [],
   "source": []
  }
 ],
 "metadata": {
  "kernelspec": {
   "display_name": "Python 2",
   "language": "python",
   "name": "python2"
  },
  "language_info": {
   "codemirror_mode": {
    "name": "ipython",
    "version": 2
   },
   "file_extension": ".py",
   "mimetype": "text/x-python",
   "name": "python",
   "nbconvert_exporter": "python",
   "pygments_lexer": "ipython2",
   "version": "2.7.13"
  }
 },
 "nbformat": 4,
 "nbformat_minor": 2
}
