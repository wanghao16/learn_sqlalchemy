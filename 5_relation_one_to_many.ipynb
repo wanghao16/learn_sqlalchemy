{
 "cells": [
  {
   "cell_type": "code",
   "execution_count": 1,
   "metadata": {},
   "outputs": [],
   "source": [
    "from contextlib import contextmanager\n",
    "\n",
    "from sqlalchemy.ext.declarative import declarative_base\n",
    "from sqlalchemy.orm import sessionmaker\n",
    "from sqlalchemy import create_engine, Column, Integer, String, ForeignKey"
   ]
  },
  {
   "cell_type": "code",
   "execution_count": 2,
   "metadata": {},
   "outputs": [],
   "source": [
    "engine = create_engine('sqlite:///:memory:')\n",
    "Base = declarative_base()"
   ]
  },
  {
   "cell_type": "code",
   "execution_count": 3,
   "metadata": {},
   "outputs": [],
   "source": [
    "class User(Base):\n",
    "    __tablename__ = 'users'\n",
    "    id = Column(Integer, primary_key=True)\n",
    "    name = Column(String)\n",
    "    fullname = Column(String)\n",
    "    nickname = Column(String)\n",
    "\n",
    "    def __repr__(self):\n",
    "        return \"<User(name='%s', fullname='%s', nickname='%s')>\" % (\n",
    "            self.name, self.fullname, self.nickname)"
   ]
  },
  {
   "cell_type": "markdown",
   "metadata": {},
   "source": [
    "## One to Many Relation"
   ]
  },
  {
   "cell_type": "code",
   "execution_count": 4,
   "metadata": {},
   "outputs": [],
   "source": [
    "# add another class\n",
    "from sqlalchemy.orm import relationship\n",
    "class Address(Base):\n",
    "    __tablename__ = 'addresses'\n",
    "    id = Column(Integer, primary_key=True)\n",
    "    email_address = Column(String, nullable=False)\n",
    "    user_id = Column(Integer, ForeignKey('users.id'))\n",
    "\n",
    "    # one address has one user\n",
    "    user = relationship(\"User\", back_populates=\"addresses\")\n",
    "\n",
    "    def __repr__(self):\n",
    "        return \"<Address(email_address='%s')>\" % self.email_address"
   ]
  },
  {
   "cell_type": "code",
   "execution_count": 5,
   "metadata": {},
   "outputs": [],
   "source": [
    "# one user has many addresses\n",
    "User.addresses = relationship(\"Address\", order_by=Address.id, back_populates=\"user\")"
   ]
  },
  {
   "cell_type": "code",
   "execution_count": 6,
   "metadata": {},
   "outputs": [],
   "source": [
    "Base.metadata.create_all(engine)"
   ]
  },
  {
   "cell_type": "code",
   "execution_count": 7,
   "metadata": {},
   "outputs": [],
   "source": [
    "@contextmanager\n",
    "def session_scope(engine):\n",
    "    \"\"\"Provide a transactional scope around a series of operations.\"\"\"\n",
    "    sess_cls = sessionmaker(bind=engine)\n",
    "    session = sess_cls()\n",
    "    try:\n",
    "        yield session\n",
    "        session.commit()\n",
    "    except:\n",
    "        session.rollback()\n",
    "        raise\n",
    "    finally:\n",
    "        session.close()"
   ]
  },
  {
   "cell_type": "code",
   "execution_count": 8,
   "metadata": {},
   "outputs": [
    {
     "name": "stdout",
     "output_type": "stream",
     "text": [
      "[]\n",
      "<User(name='jack', fullname='Jack Bean', nickname='gjffdd')>\n"
     ]
    }
   ],
   "source": [
    "with session_scope(engine) as session:\n",
    "    jack = User(name='jack', fullname='Jack Bean', nickname='gjffdd')\n",
    "    print(jack.addresses)\n",
    "    \n",
    "    # add some addresses\n",
    "    jack.addresses = [\n",
    "        Address(email_address='jack@google.com'),\n",
    "        Address(email_address='j25@yahoo.com')]\n",
    "    \n",
    "    # add User, will also add its Addresses\n",
    "    session.add(jack)\n",
    "    print(jack.addresses[1].user)"
   ]
  },
  {
   "cell_type": "code",
   "execution_count": 9,
   "metadata": {},
   "outputs": [
    {
     "name": "stdout",
     "output_type": "stream",
     "text": [
      "[(<User(name='jack', fullname='Jack Bean', nickname='gjffdd')>, <Address(email_address='jack@google.com')>)]\n"
     ]
    }
   ],
   "source": [
    "# query\n",
    "with session_scope(engine) as session:\n",
    "    print(session.query(User, Address).\\\n",
    "            filter(User.id == Address.user_id).\\\n",
    "            filter(Address.email_address == 'jack@google.com').all())"
   ]
  },
  {
   "cell_type": "code",
   "execution_count": 10,
   "metadata": {},
   "outputs": [
    {
     "name": "stdout",
     "output_type": "stream",
     "text": [
      "[<User(name='jack', fullname='Jack Bean', nickname='gjffdd')>]\n",
      "[<User(name='jack', fullname='Jack Bean', nickname='gjffdd')>]\n",
      "[<User(name='jack', fullname='Jack Bean', nickname='gjffdd')>]\n",
      "[<User(name='jack', fullname='Jack Bean', nickname='gjffdd')>]\n"
     ]
    }
   ],
   "source": [
    "with session_scope(engine) as session:\n",
    "    print(session.query(User).join(Address, User.id == Address.user_id).all())  # explicit condition\n",
    "    print(session.query(User).join(User.addresses).all())  # specify relationship from left to right\n",
    "    print(session.query(User).join(Address, User.addresses).all())  # same, with explicit target\n",
    "    print(session.query(User).join('addresses').all())  # same, using a string"
   ]
  },
  {
   "cell_type": "code",
   "execution_count": null,
   "metadata": {},
   "outputs": [],
   "source": []
  }
 ],
 "metadata": {
  "kernelspec": {
   "display_name": "Python 2",
   "language": "python",
   "name": "python2"
  },
  "language_info": {
   "codemirror_mode": {
    "name": "ipython",
    "version": 2
   },
   "file_extension": ".py",
   "mimetype": "text/x-python",
   "name": "python",
   "nbconvert_exporter": "python",
   "pygments_lexer": "ipython2",
   "version": "2.7.13"
  }
 },
 "nbformat": 4,
 "nbformat_minor": 2
}
